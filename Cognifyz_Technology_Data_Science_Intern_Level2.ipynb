{
  "cells": [
    {
      "cell_type": "markdown",
      "metadata": {
        "id": "YiLV478tZ2hN"
      },
      "source": [
        "# **Project - Restaurant Data Analysis At Cognifyz Technologies**\n",
        "\n",
        "#### **Project Type -** Explanatory Data Analysis\n",
        "#### **Industry -** Cognifyz Technologies\n",
        "#### **Name -** Diana Auma\n",
        "#### **Level -** 2\n",
        "\n",
        "## **Project Summary**\n",
        "\n",
        "**Task 1: Table Booking and Online Delivery Analysis**\n",
        "\n",
        "Task 1 focuses on exploring table booking and online delivery services among restaurants. We determine the percentage of restaurants offering these services, compare the average ratings of restaurants with and without table booking, and analyze the availability of online delivery across different price ranges.\n",
        "\n",
        "**Task 2: Price Range Analysis**\n",
        "\n",
        "In Task 2, we delve into analyzing price ranges across restaurants. We determine the most common price range, calculate the average rating for each price range, and identify the color representing the highest average rating among different price ranges.\n",
        "\n",
        "**Task 3: Feature Engineering**\n",
        "\n",
        "Task 3 involves feature engineering to enrich our dataset. We extract additional features such as the length of restaurant names or addresses and create new features like \"Has Table Booking\" and \"Has Online Delivery\" by encoding categorical variables.\n",
        "\n",
        "**Key Activities:**\n",
        "\n",
        "**Table Booking and Online Delivery Analysis:**\n",
        "\n",
        "Determine the percentage of restaurants offering services.\n",
        "\n",
        "Compare average ratings based on table booking.\n",
        "\n",
        "Analyze online delivery availability across price ranges.\n",
        "\n",
        "**Price Range Analysis:**\n",
        "\n",
        "Determine the most common price range.\n",
        "\n",
        "Calculate average ratings for each price range.\n",
        "\n",
        "Identify color representation for highest average rating.\n",
        "\n",
        "**Feature Engineering:**\n",
        "\n",
        "Extract additional features from existing columns.\n",
        "\n",
        "Create new features by encoding categorical variables.\n",
        "\n",
        "**Expected Outputs:**\n",
        "Percentage of restaurants offering table booking and online delivery.\n",
        "\n",
        "Comparison of average ratings based on table booking.\n",
        "\n",
        "Analysis of online delivery availability across price ranges.\n",
        "\n",
        "Most common price range and its average rating.\n",
        "\n",
        "Color representation for the highest average rating among price ranges.\n",
        "\n",
        "Enriched dataset with additional and encoded features.\n",
        "\n",
        "\n",
        "\n",
        "\n",
        "\n"
      ]
    },
    {
      "cell_type": "markdown",
      "metadata": {
        "id": "dusrs9Djepoi"
      },
      "source": [
        "#### **GitHub Link:** [Restaurant EDA](https://github.com/auma23/Cognifyz-Technologies-Intern)"
      ]
    },
    {
      "cell_type": "markdown",
      "metadata": {
        "id": "b8fxG8VltFPU"
      },
      "source": [
        "### **Task 1: Table Booking and Online Delivery Analysis**"
      ]
    },
    {
      "cell_type": "code",
      "execution_count": 33,
      "metadata": {
        "id": "WfepMkZsguig"
      },
      "outputs": [],
      "source": [
        "# Importing Libraries\n",
        "import pandas as pd\n",
        "import numpy as np\n",
        "import matplotlib.pyplot as plt\n",
        "%matplotlib inline\n",
        "import seaborn as sns\n",
        "\n",
        "# Ignore all warnings\n",
        "import warnings\n",
        "\n",
        "warnings.filterwarnings('ignore')\n"
      ]
    },
    {
      "cell_type": "code",
      "execution_count": 45,
      "metadata": {
        "id": "YHve1eCFhRYR"
      },
      "outputs": [],
      "source": [
        "#import the dataset\n",
        "df = pd.read_csv(\"/content/Dataset .csv\")\n"
      ]
    },
    {
      "cell_type": "code",
      "execution_count": 4,
      "metadata": {
        "colab": {
          "base_uri": "https://localhost:8080/"
        },
        "id": "HLdwMxBKhgIj",
        "outputId": "e5686dba-eaef-41b6-a740-bd7c9e081bbe"
      },
      "outputs": [
        {
          "name": "stdout",
          "output_type": "stream",
          "text": [
            "Percentage of restaurants offering table booking: 12.12%\n",
            "Percentage of restaurants offering online delivery: 25.66%\n"
          ]
        }
      ],
      "source": [
        "# Restaurants with table booking and online delivery\n",
        "total_restaurants = len(df)\n",
        "total_restaurants = len(df)\n",
        "\n",
        "df['Has Table booking'] = df['Has Table booking'].map({'Yes': 1, 'No': 0})\n",
        "df['Has Online delivery'] = df['Has Online delivery'].map({'Yes': 1, 'No': 0})\n",
        "\n",
        "table_booking_percentage = (df['Has Table booking'].sum() / total_restaurants) * 100\n",
        "online_delivery_percentage = (df['Has Online delivery'].sum() / total_restaurants) * 100\n",
        "\n",
        "print(\"Percentage of restaurants offering table booking: {:.2f}%\".format(table_booking_percentage))\n",
        "print(\"Percentage of restaurants offering online delivery: {:.2f}%\".format(online_delivery_percentage))\n"
      ]
    },
    {
      "cell_type": "code",
      "execution_count": 5,
      "metadata": {
        "colab": {
          "base_uri": "https://localhost:8080/"
        },
        "id": "gsfz3SOhmt7K",
        "outputId": "a95ac748-7aed-4cda-f0b0-4af25942f389"
      },
      "outputs": [
        {
          "name": "stdout",
          "output_type": "stream",
          "text": [
            "Average rating of restaurants with table booking: 3.44\n",
            "Average rating of restaurants without table booking: 2.56\n"
          ]
        }
      ],
      "source": [
        "# Average ratings of restaurants with and without table booking services\n",
        "with_table_booking_avg_rating = df[df['Has Table booking'] == 1]['Aggregate rating'].mean()\n",
        "without_table_booking_avg_rating = df[df['Has Table booking'] == 0]['Aggregate rating'].mean()\n",
        "\n",
        "print(\"Average rating of restaurants with table booking: {:.2f}\".format(with_table_booking_avg_rating))\n",
        "print(\"Average rating of restaurants without table booking: {:.2f}\".format(without_table_booking_avg_rating))\n"
      ]
    },
    {
      "cell_type": "code",
      "execution_count": 6,
      "metadata": {
        "colab": {
          "base_uri": "https://localhost:8080/"
        },
        "id": "I24pkw6In4i5",
        "outputId": "4b717021-6b9e-41d9-f928-04f41f123bcb"
      },
      "outputs": [
        {
          "name": "stdout",
          "output_type": "stream",
          "text": [
            "Availability of online delivery by price range:\n",
            "Price range\n",
            "Low       0.262935\n",
            "Medium    0.291903\n",
            "High      0.090444\n",
            "Name: Has Online delivery, dtype: float64\n"
          ]
        }
      ],
      "source": [
        "# Online delivery among restaurants with different price ranges\n",
        "price_ranges = pd.cut(df['Price range'], bins=3, labels=['Low', 'Medium', 'High'])\n",
        "online_delivery_by_price = df.groupby(price_ranges)['Has Online delivery'].mean()\n",
        "\n",
        "print(\"Availability of online delivery by price range:\")\n",
        "print(online_delivery_by_price)"
      ]
    },
    {
      "cell_type": "markdown",
      "metadata": {
        "id": "ZFNNGoqrs5G9"
      },
      "source": [
        "###**Task 2: Price Range Analysis**"
      ]
    },
    {
      "cell_type": "code",
      "execution_count": 7,
      "metadata": {
        "colab": {
          "base_uri": "https://localhost:8080/"
        },
        "id": "VwQbUpFrs2Jt",
        "outputId": "c82f1bf8-03a7-4929-95bd-f5a1e2de4a71"
      },
      "outputs": [
        {
          "data": {
            "text/plain": [
              "1"
            ]
          },
          "execution_count": 7,
          "metadata": {},
          "output_type": "execute_result"
        }
      ],
      "source": [
        "# Most common price range\n",
        "most_common_price_range = df['Price range'].mode()[0]\n",
        "most_common_price_range\n"
      ]
    },
    {
      "cell_type": "code",
      "execution_count": 8,
      "metadata": {
        "colab": {
          "base_uri": "https://localhost:8080/"
        },
        "id": "8u-A07eZt44T",
        "outputId": "7156328d-b3ce-4224-bf8c-b7680cc98196"
      },
      "outputs": [
        {
          "data": {
            "text/plain": [
              "Price range\n",
              "1    1.999887\n",
              "2    2.941054\n",
              "3    3.683381\n",
              "4    3.817918\n",
              "Name: Aggregate rating, dtype: float64"
            ]
          },
          "execution_count": 8,
          "metadata": {},
          "output_type": "execute_result"
        }
      ],
      "source": [
        "# Average rating for each price range\n",
        "average_rating_by_price_range = df.groupby('Price range')['Aggregate rating'].mean()\n",
        "average_rating_by_price_range"
      ]
    },
    {
      "cell_type": "code",
      "execution_count": 31,
      "metadata": {
        "colab": {
          "base_uri": "https://localhost:8080/"
        },
        "id": "emB5Hjr_wDDw",
        "outputId": "8deb0523-3da8-437a-f11f-90273dbb3a9f"
      },
      "outputs": [
        {
          "name": "stdout",
          "output_type": "stream",
          "text": [
            "Color representing the highest average rating: Dark Green\n"
          ]
        }
      ],
      "source": [
        "# Identify the color representing the highest average rating\n",
        "highest_avg_rating_color = df.loc[df['Aggregate rating'].idxmax(), 'Rating color']\n",
        "print(\"Color representing the highest average rating:\", highest_avg_rating_color)"
      ]
    },
    {
      "cell_type": "code",
      "execution_count": 46,
      "metadata": {
        "colab": {
          "base_uri": "https://localhost:8080/"
        },
        "id": "spDHMlmMwggK",
        "outputId": "abe4b6e7-19d8-47c2-b2bf-70361fc4b30a"
      },
      "outputs": [
        {
          "data": {
            "text/plain": [
              "1"
            ]
          },
          "execution_count": 46,
          "metadata": {},
          "output_type": "execute_result"
        }
      ],
      "source": [
        "price_counts = df['Price range'].value_counts()\n",
        "most_common_price = price_counts.idxmax()\n",
        "most_common_price"
      ]
    },
    {
      "cell_type": "code",
      "execution_count": 47,
      "metadata": {
        "colab": {
          "base_uri": "https://localhost:8080/"
        },
        "id": "ll4jqFi41WQJ",
        "outputId": "fb7b07a7-bba9-41f6-f73e-493a7314b1ea"
      },
      "outputs": [
        {
          "data": {
            "text/plain": [
              "Price range\n",
              "1    1.999887\n",
              "2    2.941054\n",
              "3    3.683381\n",
              "4    3.817918\n",
              "Name: Aggregate rating, dtype: float64"
            ]
          },
          "execution_count": 47,
          "metadata": {},
          "output_type": "execute_result"
        }
      ],
      "source": [
        "average_ratings = df.groupby('Price range')['Aggregate rating'].mean()\n",
        "average_ratings"
      ]
    },
    {
      "cell_type": "code",
      "execution_count": 49,
      "metadata": {
        "colab": {
          "base_uri": "https://localhost:8080/",
          "height": 35
        },
        "id": "vs_jKza_tVsp",
        "outputId": "c53a2aaa-818d-418c-9538-194520c601af"
      },
      "outputs": [
        {
          "data": {
            "application/vnd.google.colaboratory.intrinsic+json": {
              "type": "string"
            },
            "text/plain": [
              "'Dark Green'"
            ]
          },
          "execution_count": 49,
          "metadata": {},
          "output_type": "execute_result"
        }
      ],
      "source": [
        "# Color Representing the Highest Average Rating\n",
        "highest_rating_color = df[df['Aggregate rating'] == df['Aggregate rating'].max()]['Rating color'].iloc[0]\n",
        "highest_rating_color"
      ]
    },
    {
      "cell_type": "code",
      "execution_count": 57,
      "metadata": {
        "colab": {
          "base_uri": "https://localhost:8080/",
          "height": 422
        },
        "id": "Ca_tqAfW4kfX",
        "outputId": "cbe424e9-9e20-473f-f340-c3875f6093f4"
      },
      "outputs": [
        {
          "data": {
            "image/png": "[encoded data removed]",
            "text/plain": [
              "<Figure size 600x400 with 1 Axes>"
            ]
          },
          "metadata": {},
          "output_type": "display_data"
        }
      ],
      "source": [
        "\n",
        "# Relationship between price range, color, and aggregate rating\n",
        "plt.figure(figsize=(6, 4))\n",
        "sns.scatterplot(data=df, x='Price range', y='Aggregate rating', hue='Rating color', palette='viridis', s=100)\n",
        "plt.title('Relationship between Price Range, Color, and Aggregate Rating')\n",
        "plt.xlabel('Price Range')\n",
        "plt.ylabel('Aggregate Rating')\n",
        "\n",
        "plt.legend(bbox_to_anchor=(1.05, 1), loc='upper left')\n",
        "\n",
        "plt.xticks(rotation=45)\n",
        "plt.grid(True)\n",
        "plt.show()\n"
      ]
    },
    {
      "cell_type": "markdown",
      "metadata": {
        "id": "2iQ3wUOf7tfe"
      },
      "source": [
        "### **Task3: Feature Engineering**"
      ]
    },
    {
      "cell_type": "code",
      "execution_count": 61,
      "metadata": {
        "colab": {
          "base_uri": "https://localhost:8080/"
        },
        "id": "XeeuK7e0777k",
        "outputId": "216da8e9-b4b3-4723-b411-3965bd49d1c2"
      },
      "outputs": [
        {
          "name": "stdout",
          "output_type": "stream",
          "text": [
            "   Restaurant ID         Restaurant Name  Country Code              City  \\\n",
            "0        6317637        Le Petit Souffle           162       Makati City   \n",
            "1        6304287        Izakaya Kikufuji           162       Makati City   \n",
            "2        6300002  Heat - Edsa Shangri-La           162  Mandaluyong City   \n",
            "3        6318506                    Ooma           162  Mandaluyong City   \n",
            "4        6314302             Sambo Kojin           162  Mandaluyong City   \n",
            "\n",
            "                                             Address  \\\n",
            "0  Third Floor, Century City Mall, Kalayaan Avenu...   \n",
            "1  Little Tokyo, 2277 Chino Roces Avenue, Legaspi...   \n",
            "2  Edsa Shangri-La, 1 Garden Way, Ortigas, Mandal...   \n",
            "3  Third Floor, Mega Fashion Hall, SM Megamall, O...   \n",
            "4  Third Floor, Mega Atrium, SM Megamall, Ortigas...   \n",
            "\n",
            "                                     Locality  \\\n",
            "0   Century City Mall, Poblacion, Makati City   \n",
            "1  Little Tokyo, Legaspi Village, Makati City   \n",
            "2  Edsa Shangri-La, Ortigas, Mandaluyong City   \n",
            "3      SM Megamall, Ortigas, Mandaluyong City   \n",
            "4      SM Megamall, Ortigas, Mandaluyong City   \n",
            "\n",
            "                                    Locality Verbose   Longitude   Latitude  \\\n",
            "0  Century City Mall, Poblacion, Makati City, Mak...  121.027535  14.565443   \n",
            "1  Little Tokyo, Legaspi Village, Makati City, Ma...  121.014101  14.553708   \n",
            "2  Edsa Shangri-La, Ortigas, Mandaluyong City, Ma...  121.056831  14.581404   \n",
            "3  SM Megamall, Ortigas, Mandaluyong City, Mandal...  121.056475  14.585318   \n",
            "4  SM Megamall, Ortigas, Mandaluyong City, Mandal...  121.057508  14.584450   \n",
            "\n",
            "                           Cuisines  ...  Switch to order menu Price range  \\\n",
            "0        French, Japanese, Desserts  ...                    No           3   \n",
            "1                          Japanese  ...                    No           3   \n",
            "2  Seafood, Asian, Filipino, Indian  ...                    No           4   \n",
            "3                   Japanese, Sushi  ...                    No           4   \n",
            "4                  Japanese, Korean  ...                    No           4   \n",
            "\n",
            "  Aggregate rating Rating color  Rating text  Votes Name Length  \\\n",
            "0              4.8   Dark Green    Excellent    314          16   \n",
            "1              4.5   Dark Green    Excellent    591          16   \n",
            "2              4.4        Green    Very Good    270          22   \n",
            "3              4.9   Dark Green    Excellent    365           4   \n",
            "4              4.8   Dark Green    Excellent    229          11   \n",
            "\n",
            "  Address Length  Has Table Booking  Has Online Delivery  \n",
            "0             71                  1                    0  \n",
            "1             67                  1                    0  \n",
            "2             56                  1                    0  \n",
            "3             70                  0                    0  \n",
            "4             64                  1                    0  \n",
            "\n",
            "[5 rows x 23 columns]\n"
          ]
        }
      ],
      "source": [
        "# Features from Existing Columns\n",
        "df['Name Length'] = df['Restaurant Name'].apply(len)\n",
        "df['Address Length'] = df['Address'].apply(len)\n",
        "\n",
        "# Convert categorical variables to binary features\n",
        "df['Has Table Booking'] = df['Has Table booking'].map({'Yes': 1, 'No': 0})\n",
        "df['Has Online Delivery'] = df['Has Online delivery'].map({'Yes': 1, 'No': 0})\n",
        "\n",
        "#drop original categorical variables\n",
        "df.drop(['Has Table booking', 'Has Online delivery'], axis=1, inplace=True)\n",
        "\n",
        "print(df.head())"
      ]
    },
    {
      "cell_type": "markdown",
      "metadata": {
        "id": "oYbjGgSX93oo"
      },
      "source": [
        "## **Project Findings**\n",
        "\n",
        " **Task1: Table Booking and Online Delivery**\n",
        "\n",
        " 25.66% and 12.12% of restaurants allow online delivery and table booking respectively.\n",
        "\n",
        "Restaurants that offer table booking have high rating than those with no table booking.\n",
        "\n",
        "Restaurants with low and medium prices are likely to offer online delivery with a percentage of 26% and 29% respectively. Unlike for those with high prices who offer online delivery of upto 9%.\n",
        "\n",
        "**Task 2: Price Range Analysis**\n",
        "\n",
        "1 is the most common price range across restaurants.\n",
        "\n",
        "Restaurants in price range 4 received the highest average rating of 3.818 then price range 3 received 3.6833 then the rest.\n",
        "\n",
        "Dark green color represents the highest agregate rating, the plot shows dark green color distributed along with the highest rating in all the price ranges.\n",
        "\n",
        "**Task 3: Feature Engineering**\n",
        "\n",
        "Creating'Restaurant Name Length' and 'Address Length,' coluns to show the length of restaurant names and addresses.\n",
        "\n",
        "Converted columns, 'Has Table Booking' and 'Has Online Delivery'  to binary features by encoding categorical variables.\n",
        "\n",
        "## **Conclusion**\n",
        "\n",
        "The project concludes that 25.66% of the restaurants provide food delivery via the Internet whereas only 12.12% of the restaurants had reservation services for tables. Table booking outlets have higher ratings than the others. Those at low and mid ranges of prices have a high probability of being used for online ordering, i.e. 26 percent and 29 percent respectively. The most expensive meals are the least likely to be delivered online. The highest range in terms of price (from 1 to 4) has an average rating value of 3.818. The dark green color is for the highest rating across price ranges as shown in the plot the dark green color appears on top of the aggregate ratings. During feature engineering, new columns were created to include restaurant names and addresses while categorical variables were converted into binary features for further analysis purposes.\n"
      ]
    }
  ],
  "metadata": {
    "colab": {
      "provenance": []
    },
    "kernelspec": {
      "display_name": "Python 3",
      "name": "python3"
    },
    "language_info": {
      "name": "python"
    }
  },
  "nbformat": 4,
  "nbformat_minor": 0
}
